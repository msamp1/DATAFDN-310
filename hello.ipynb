{
 "cells": [
  {
   "cell_type": "code",
   "execution_count": 1,
   "id": "803cb0cb-1786-4d40-8042-084992898d05",
   "metadata": {},
   "outputs": [
    {
     "name": "stdout",
     "output_type": "stream",
     "text": [
      "hello! this is the file for my github repo\n"
     ]
    }
   ],
   "source": [
    "print(\"hello! this is the file for my github repo\")"
   ]
  },
  {
   "cell_type": "code",
   "execution_count": null,
   "id": "77a43a8e-367a-4e91-a7b1-bd716ddbdde0",
   "metadata": {},
   "outputs": [],
   "source": []
  }
 ],
 "metadata": {
  "kernelspec": {
   "display_name": "Python 3 (ipykernel)",
   "language": "python",
   "name": "python3"
  },
  "language_info": {
   "codemirror_mode": {
    "name": "ipython",
    "version": 3
   },
   "file_extension": ".py",
   "mimetype": "text/x-python",
   "name": "python",
   "nbconvert_exporter": "python",
   "pygments_lexer": "ipython3",
   "version": "3.10.13"
  }
 },
 "nbformat": 4,
 "nbformat_minor": 5
}
